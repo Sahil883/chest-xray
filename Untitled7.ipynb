{
  "nbformat": 4,
  "nbformat_minor": 0,
  "metadata": {
    "accelerator": "GPU",
    "colab": {
      "name": "Untitled7.ipynb",
      "provenance": [],
      "mount_file_id": "1sEV0GAihQ1wY_-HtrDr0KG9U6nsr4AZ-",
      "authorship_tag": "ABX9TyNKreHNFW2jIQvSkn299Tr+",
      "include_colab_link": true
    },
    "kernelspec": {
      "display_name": "Python 3",
      "name": "python3"
    },
    "language_info": {
      "name": "python"
    }
  },
  "cells": [
    {
      "cell_type": "markdown",
      "metadata": {
        "id": "view-in-github",
        "colab_type": "text"
      },
      "source": [
        "<a href=\"https://colab.research.google.com/github/Sahil883/chest-xray/blob/main/Untitled7.ipynb\" target=\"_parent\"><img src=\"https://colab.research.google.com/assets/colab-badge.svg\" alt=\"Open In Colab\"/></a>"
      ]
    },
    {
      "cell_type": "code",
      "metadata": {
        "colab": {
          "background_save": true
        },
        "id": "RUGY4Dr2ouBG"
      },
      "source": [
        "import numpy as np\n",
        "import pandas as pd\n",
        "import cv2\n",
        "import tensorflow as tf\n",
        "from tensorflow import keras\n",
        "from tensorflow.keras.preprocessing.image import ImageDataGenerator\n",
        "from keras.layers import Input, Lambda, Dense, Flatten,Conv2D, MaxPooling2D,Activation,Dropout\n",
        "from keras.applications.vgg16 import VGG16\n",
        "from keras.applications.vgg16 import preprocess_input\n",
        "from keras.preprocessing import image\n",
        "from keras.models import Sequential\n",
        "from glob import glob\n",
        "from keras.models import  Model\n",
        "import matplotlib.pyplot as plt\n",
        "from pathlib import Path\n",
        "\n",
        "import os"
      ],
      "execution_count": null,
      "outputs": []
    },
    {
      "cell_type": "code",
      "metadata": {
        "id": "XxvjrzZ-WTCv"
      },
      "source": [
        "train_data_path=Path(\"/content/drive/MyDrive/dataset2-master/dataset2-master/images/TRAIN\")\n",
        "test_data_path=Path(\"/content/drive/MyDrive/dataset2-master/dataset2-master/images/TEST\")"
      ],
      "execution_count": null,
      "outputs": []
    },
    {
      "cell_type": "code",
      "metadata": {
        "id": "blaZfJlcapS_"
      },
      "source": [
        "Train_JPG_Path = list(train_data_path.glob(r\"**/*.jpeg\"))\n",
        "Test_JPG_Path = list(test_data_path.glob(r\"**/*.jpeg\"))"
      ],
      "execution_count": null,
      "outputs": []
    },
    {
      "cell_type": "code",
      "metadata": {
        "id": "EZm3dlAfa9PW"
      },
      "source": [
        "Train_JPG_Labels = list(map(lambda x: os.path.split(os.path.split(x)[0])[1],Train_JPG_Path))\n",
        "Test_JPG_Labels = list(map(lambda x: os.path.split(os.path.split(x)[0])[1],Test_JPG_Path))"
      ],
      "execution_count": null,
      "outputs": []
    },
    {
      "cell_type": "code",
      "metadata": {
        "id": "WUdPhL3BbHoH"
      },
      "source": [
        "Train_JPG_Path_Series = pd.Series(Train_JPG_Path,name=\"JPG\").astype(str)\n",
        "Train_JPG_Labels_Series = pd.Series(Train_JPG_Labels,name=\"CATEGORY\")\n",
        "Test_JPG_Path_Series = pd.Series(Test_JPG_Path,name=\"JPG\").astype(str)\n",
        "Test_JPG_Labels_Series = pd.Series(Test_JPG_Labels,name=\"CATEGORY\")"
      ],
      "execution_count": null,
      "outputs": []
    },
    {
      "cell_type": "code",
      "metadata": {
        "id": "a2Xt1Gy4bM38"
      },
      "source": [
        "Main_Train_Data = pd.concat([Train_JPG_Path_Series,Train_JPG_Labels_Series],axis=1)\n",
        "Main_Test_Data = pd.concat([Test_JPG_Path_Series,Test_JPG_Labels_Series],axis=1)"
      ],
      "execution_count": null,
      "outputs": []
    },
    {
      "cell_type": "code",
      "metadata": {
        "id": "fZYA2tB0bU9X"
      },
      "source": [
        "Main_Train_Data = Main_Train_Data.sample(frac=1).reset_index(drop=True)\n",
        "Main_Test_Data = Main_Test_Data.sample(frac=1).reset_index(drop=True)"
      ],
      "execution_count": null,
      "outputs": []
    },
    {
      "cell_type": "code",
      "metadata": {
        "id": "sIODiUElbd1T"
      },
      "source": [
        "from tensorflow.keras.applications import ResNet50"
      ],
      "execution_count": null,
      "outputs": []
    },
    {
      "cell_type": "code",
      "metadata": {
        "id": "AOYjTi12AuKn"
      },
      "source": [
        "model=Sequential()"
      ],
      "execution_count": null,
      "outputs": []
    },
    {
      "cell_type": "code",
      "metadata": {
        "id": "zbsqKPoLBAtb"
      },
      "source": [
        "model.add(ResNet50(include_top=False,pooling=\"avg\",weights=\"imagenet\"))"
      ],
      "execution_count": null,
      "outputs": []
    },
    {
      "cell_type": "code",
      "metadata": {
        "id": "rNsG5pgalzQa"
      },
      "source": [
        "model.add(Dense(64,activation=\"relu\"))\n",
        "model.add(Dropout(0.35))"
      ],
      "execution_count": null,
      "outputs": []
    },
    {
      "cell_type": "code",
      "metadata": {
        "id": "ORcXqMSrf-Wy"
      },
      "source": [
        "model.add(Dense(32,activation=\"relu\"))\n",
        "model.add(Dropout(0.35))"
      ],
      "execution_count": null,
      "outputs": []
    },
    {
      "cell_type": "code",
      "metadata": {
        "id": "iuDpIwtDBgOv"
      },
      "source": [
        "model.add(Dense(4,activation=\"softmax\"))"
      ],
      "execution_count": null,
      "outputs": []
    },
    {
      "cell_type": "code",
      "metadata": {
        "id": "EgYgnCurEjJm"
      },
      "source": [
        "model.layers[0].trainable=False"
      ],
      "execution_count": null,
      "outputs": []
    },
    {
      "cell_type": "code",
      "metadata": {
        "id": "orUkkECYCbJy"
      },
      "source": [
        "from tensorflow.keras import optimizers\n",
        "\n",
        "sgd = optimizers.SGD(learning_rate=  0.01, decay = 1e-6, momentum = 0.9, nesterov = True)\n",
        "model.compile(optimizer = sgd, loss=\"categorical_crossentropy\", metrics = [\"accuracy\"])"
      ],
      "execution_count": null,
      "outputs": []
    },
    {
      "cell_type": "code",
      "metadata": {
        "id": "hLD3Nou1Crty"
      },
      "source": [
        "data_gen=ImageDataGenerator(preprocessing_function=preprocess_input)"
      ],
      "execution_count": null,
      "outputs": []
    },
    {
      "cell_type": "code",
      "metadata": {
        "colab": {
          "base_uri": "https://localhost:8080/"
        },
        "id": "EesXZ0kYDkRY",
        "outputId": "385be7dc-e98a-4554-a04e-5537c2f39ab2"
      },
      "source": [
        "train_data=data_gen.flow_from_dataframe(Main_Train_Data,x_col=\"JPG\",y_col=\"CATEGORY\",target_size=(224,224),class_mode=\"categorical\")"
      ],
      "execution_count": null,
      "outputs": [
        {
          "output_type": "stream",
          "text": [
            "Found 9967 validated image filenames belonging to 4 classes.\n"
          ],
          "name": "stdout"
        }
      ]
    },
    {
      "cell_type": "code",
      "metadata": {
        "colab": {
          "base_uri": "https://localhost:8080/"
        },
        "id": "uMIiXZSYFMY1",
        "outputId": "6344e1ac-b876-4979-ec2a-9b90a73526e1"
      },
      "source": [
        "test_data=data_gen.flow_from_dataframe(Main_Test_Data,x_col=\"JPG\",y_col=\"CATEGORY\",target_size=(224,224),class_mode=\"categorical\")"
      ],
      "execution_count": null,
      "outputs": [
        {
          "output_type": "stream",
          "text": [
            "Found 2487 validated image filenames belonging to 4 classes.\n"
          ],
          "name": "stdout"
        }
      ]
    },
    {
      "cell_type": "code",
      "metadata": {
        "colab": {
          "background_save": true
        },
        "id": "WqcnsaRRFTUz",
        "outputId": "bbb75806-60e8-4b90-a35f-6c97e8c0532a"
      },
      "source": [
        "Model=model.fit(train_data,steps_per_epoch=10,epochs=10)"
      ],
      "execution_count": null,
      "outputs": [
        {
          "output_type": "stream",
          "text": [
            "Epoch 1/10\n",
            "10/10 [==============================] - 104s 11s/step - loss: 1.4811 - accuracy: 0.3060\n",
            "Epoch 2/10\n",
            "10/10 [==============================] - 106s 11s/step - loss: 1.2655 - accuracy: 0.4554\n",
            "Epoch 3/10\n",
            "10/10 [==============================] - 110s 11s/step - loss: 0.9922 - accuracy: 0.6259\n",
            "Epoch 4/10\n",
            "10/10 [==============================] - 108s 11s/step - loss: 0.8020 - accuracy: 0.6348\n",
            "Epoch 5/10\n",
            "10/10 [==============================] - 110s 11s/step - loss: 0.6896 - accuracy: 0.7322\n",
            "Epoch 6/10\n",
            "10/10 [==============================] - 105s 10s/step - loss: 0.6757 - accuracy: 0.6878\n",
            "Epoch 7/10\n",
            "10/10 [==============================] - 107s 11s/step - loss: 0.6977 - accuracy: 0.7169\n",
            "Epoch 8/10\n",
            "10/10 [==============================] - 104s 10s/step - loss: 0.6347 - accuracy: 0.7670\n",
            "Epoch 9/10\n",
            "10/10 [==============================] - 105s 11s/step - loss: 0.6363 - accuracy: 0.7724\n",
            "Epoch 10/10\n",
            "10/10 [==============================] - 102s 10s/step - loss: 0.6686 - accuracy: 0.6925\n"
          ],
          "name": "stdout"
        }
      ]
    },
    {
      "cell_type": "code",
      "metadata": {
        "colab": {
          "background_save": true
        },
        "id": "9BptfXHeF3Vs"
      },
      "source": [
        ""
      ],
      "execution_count": null,
      "outputs": []
    }
  ]
}